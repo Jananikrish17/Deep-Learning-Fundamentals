{
 "cells": [
  {
   "attachments": {
    "image.png": {
     "image/png": "[encoded data removed]"
    }
   },
   "cell_type": "markdown",
   "metadata": {},
   "source": [
    "#### Representing Neural Networks\n",
    "\n",
    "Artificial neural networks:\n",
    "    \n",
    "   Atificial neural networks draw some inspiration from biological neural networks,A deep neural network is a specific type of neural network that excels at capturing nonlinear relationships in data. Deep neural networks have some ability to discover how to structure the nonlinear transformations during the training process automatically and have grown to become a helpful tool for many problems.\n",
    "\n",
    "Neural network are usually represented as graphs. A graph is a data structure consists of nodes that are connected by edges.Graphs are commonly used to represent how components of a system are related or linked.\n",
    "\n",
    "![image.png](attachment:image.png)\n",
    "\n",
    "\n",
    "\n",
    "\n",
    "\n",
    "\n",
    "Graph are flexible data structure through graph.we can represent a list of values as a graph."
   ]
  },
  {
   "cell_type": "markdown",
   "metadata": {},
   "source": [
    "Graph let us to build a pipeline of a function that need to executed sequence.A computational graph uses nodes to describe variables and edges to describe how variables are combined,A decision tree is a specific type of computational graph"
   ]
  },
  {
   "cell_type": "markdown",
   "metadata": {},
   "source": [
    "#### Generating Regression Data\n",
    "\n",
    "Generating data by ourselves gives us more control of the properties of the data set by using\n",
    "\n",
    "1) sklearn.datasets.make_regression()\n",
    "2) sklearn.datasets.make_classification()\n",
    "3) sklearn.datasets.make_moons()\n",
    "\n",
    "The dataset consists of features, observations, and the noise in the features"
   ]
  },
  {
   "cell_type": "code",
   "execution_count": 1,
   "metadata": {},
   "outputs": [],
   "source": [
    "from sklearn.datasets import make_regression\n",
    "data= make_regression(n_samples=10, n_features=3, random_state=1)"
   ]
  },
  {
   "cell_type": "markdown",
   "metadata": {},
   "source": [
    "The above code will generates a regression data set with 3 features, 1000 observations, and a random seed of 1.\n",
    "The features are stored in the first NumPy array and the labels in the second NumPy array:"
   ]
  },
  {
   "cell_type": "code",
   "execution_count": 2,
   "metadata": {},
   "outputs": [
    {
     "name": "stdout",
     "output_type": "stream",
     "text": [
      "<class 'tuple'>\n"
     ]
    }
   ],
   "source": [
    "print(type(data))"
   ]
  },
  {
   "cell_type": "code",
   "execution_count": 3,
   "metadata": {},
   "outputs": [
    {
     "name": "stdout",
     "output_type": "stream",
     "text": [
      "[[-0.68372786 -0.12289023  0.90085595]\n",
      " [-0.38405435  1.13376944 -0.3224172 ]\n",
      " [ 0.86540763 -2.3015387  -1.07296862]\n",
      " [-0.26788808  0.53035547 -0.93576943]\n",
      " [-0.17242821 -0.87785842 -1.09989127]\n",
      " [-0.7612069   0.3190391   1.74481176]\n",
      " [ 0.90159072  0.50249434  1.14472371]\n",
      " [-0.61175641 -0.52817175  1.62434536]\n",
      " [ 0.58281521 -1.10061918  0.04221375]\n",
      " [ 1.46210794 -2.06014071 -0.24937038]]\n"
     ]
    }
   ],
   "source": [
    "#Features\n",
    "print(data[0])"
   ]
  },
  {
   "cell_type": "code",
   "execution_count": 4,
   "metadata": {},
   "outputs": [
    {
     "name": "stdout",
     "output_type": "stream",
     "text": [
      "[-0.68372786 -0.12289023  0.90085595]\n"
     ]
    }
   ],
   "source": [
    "#first row\n",
    "print(data[0][0])"
   ]
  },
  {
   "cell_type": "code",
   "execution_count": 5,
   "metadata": {},
   "outputs": [
    {
     "name": "stdout",
     "output_type": "stream",
     "text": [
      "[ 16.79599588 -12.07640944 -24.08199932 -29.38530983 -35.59436225\n",
      "  40.93139665  45.63875939  37.7671644    6.66150601   7.84545048]\n"
     ]
    }
   ],
   "source": [
    "#labels\n",
    "print(data[1])"
   ]
  },
  {
   "cell_type": "code",
   "execution_count": 6,
   "metadata": {},
   "outputs": [
    {
     "name": "stdout",
     "output_type": "stream",
     "text": [
      "16.79599587508764\n"
     ]
    }
   ],
   "source": [
    "## First label\n",
    "print(data[1][0])"
   ]
  },
  {
   "cell_type": "code",
   "execution_count": 7,
   "metadata": {},
   "outputs": [],
   "source": [
    "from sklearn.datasets import make_regression\n",
    "import pandas as pd\n",
    "data = make_regression(n_samples=100, n_features=3, random_state=1)\n",
    "features = pd.DataFrame(data[0])\n",
    "labels = pd.Series(data[1])"
   ]
  },
  {
   "cell_type": "code",
   "execution_count": 8,
   "metadata": {},
   "outputs": [
    {
     "name": "stdout",
     "output_type": "stream",
     "text": [
      "[4.41628553e+01 9.89060851e+01 5.81043144e+01 9.42641425e-03]\n"
     ]
    }
   ],
   "source": [
    "from sklearn.datasets import make_regression\n",
    "from sklearn.linear_model import SGDRegressor\n",
    "import numpy as np\n",
    "data = make_regression(n_samples=100, n_features=3, random_state=1)\n",
    "features = pd.DataFrame(data[0])\n",
    "labels = pd.Series(data[1])\n",
    "\n",
    "features['bias'] = 1\n",
    "def train(features, labels):\n",
    "    lr = SGDRegressor()\n",
    "    lr.fit(features,labels)\n",
    "    weights =lr.coef_\n",
    "    print(weights)\n",
    "    return weights\n",
    "\n",
    "def feedforward(features, weights):\n",
    "    predictions =np.dot(features, weights.T)\n",
    "    return predictions\n",
    "\n",
    "train_weights=train(features,labels)\n",
    "linear_predictions = feedforward(features, train_weights)"
   ]
  },
  {
   "cell_type": "markdown",
   "metadata": {},
   "source": [
    "##### Fitting A Linear Regression Neural Network\n",
    "Gradeint descent is most common technique for fitting neural network models,By using scikit-learn implementation of gradient descent SGDRegressor class"
   ]
  },
  {
   "cell_type": "code",
   "execution_count": 11,
   "metadata": {},
   "outputs": [
    {
     "data": {
      "text/plain": [
       "array([ -10.35684292,   25.47085463,   19.67466333,  149.38880098,\n",
       "       -121.55678824,   90.22317423,  213.86829394,  224.58868287,\n",
       "        -73.12102315, -195.47095292,  -52.41674764,  201.65863748,\n",
       "         20.27274252,   89.12271832,   -4.42742045,  -45.43342441,\n",
       "         56.86141214,  120.47819786,  -66.15931031,  -43.80791415,\n",
       "         34.25478352,  -77.4158013 ,  -26.87519782,  197.07835955,\n",
       "         64.39080891,  -58.2093815 , -100.53350482,  120.22369278,\n",
       "       -324.38800483,   11.79602476, -178.20208052,  -12.08911815,\n",
       "        -25.19757266,  162.13935892,  101.18954789,  128.45204532,\n",
       "        -21.91820648,  141.4812743 ,   70.72502951,   42.74036809,\n",
       "       -129.81024132,   75.59233262,    7.75525943,   27.81852423,\n",
       "        -55.97588275,  -45.07132759,   -4.7943356 , -224.73058578,\n",
       "        -73.96595549,   32.45794687, -145.66406497,   70.37806855,\n",
       "        130.98692988,  152.6514687 ,   -5.78531097,  125.96848931,\n",
       "       -193.90173087,  -16.04072236,  -64.58765423,   89.20554476,\n",
       "         56.80246246, -116.48642063,   70.86752038,   56.08907162,\n",
       "         79.86440789,  -44.85918944,  -27.08431429,  100.74758121,\n",
       "        180.65000173,  -44.98367813,  -40.25068496,    4.70288245,\n",
       "        -77.57366928,   17.79350558,  145.27061036,  -32.10722752,\n",
       "         42.54019431,  -50.6515984 ,   39.0902826 ,  -11.13490128,\n",
       "        190.70069722,  -41.21700813, -110.46337627,  108.33721834,\n",
       "          4.05740249,  -11.21255497,  103.93859235,  135.47606446,\n",
       "        107.85104364,  -17.1644727 ,   37.10253671,   63.77321793,\n",
       "        -97.71555018, -145.41128048,  354.46420864,   26.59751434,\n",
       "        -63.04966307,  112.33298703,   66.61039338,  -18.73943196])"
      ]
     },
     "execution_count": 11,
     "metadata": {},
     "output_type": "execute_result"
    }
   ],
   "source": [
    "from sklearn.datasets import make_regression\n",
    "from sklearn.linear_model import SGDRegressor\n",
    "import numpy as np\n",
    "data = make_regression(n_samples=100, n_features=3, random_state=1)\n",
    "features = pd.DataFrame(data[0])\n",
    "labels = pd.Series(data[1])\n",
    "\n",
    "features['bias'] = 1\n",
    "def train(features, labels):\n",
    "    lr = SGDRegressor()\n",
    "    lr.fit(features,labels)\n",
    "    weights =lr.coef_\n",
    "    return weights\n",
    "\n",
    "def feedforward(features, weights):\n",
    "    predictions =np.dot(features, weights.T)\n",
    "    return predictions\n",
    "\n",
    "train_weights=train(features,labels)\n",
    "linear_predictions = feedforward(features, train_weights)\n",
    "linear_predictions "
   ]
  },
  {
   "cell_type": "markdown",
   "metadata": {},
   "source": [
    "#### Genrating Classification Data\n",
    "\n",
    "To implement a network that performs classification, the only thing we need to change from the linear regression network we implemented is the activation function. Instead of using the identity function, we need to use the sigmoid function."
   ]
  },
  {
   "cell_type": "code",
   "execution_count": 13,
   "metadata": {},
   "outputs": [],
   "source": [
    "from sklearn.linear_model import SGDClassifier\n",
    "from sklearn.datasets import make_classification\n",
    "\n",
    "class_data = make_classification(n_samples=100, n_features=4, random_state=1)\n",
    "class_features = pd.DataFrame(class_data[0])\n",
    "class_labels = pd.Series(class_data[1])\n",
    "\n",
    "class_features ['bias'] = 1\n",
    "def log_train(class_features, class_labels):\n",
    "    clr = SGDClassifier()\n",
    "    clr.fit(class_features, class_labels)\n",
    "    weight = clr.coef_\n",
    "    return weight\n",
    "\n",
    "def sigmoid(linear_combination):\n",
    "    return 1/(1+np.exp(-linear_combination))\n",
    "\n",
    "    \n",
    "def log_feedforward(class_features, log_train_weights):\n",
    "    linear_combination = np.dot(class_features,log_train_weights.T)\n",
    "    log_predictions =sigmoid(linear_combination)\n",
    "    log_predictions[log_predictions >=0.5] =1\n",
    "    log_predictions[log_predictions <=0.5] = 0\n",
    "    return log_predictions\n",
    "\n",
    "\n",
    "# Uncomment this code when you're ready to test your functions.\n",
    "log_train_weights = log_train(class_features, class_labels)\n",
    "log_predictions = log_feedforward(class_features, log_train_weights)\n"
   ]
  }
 ],
 "metadata": {
  "kernelspec": {
   "display_name": "Python 3",
   "language": "python",
   "name": "python3"
  },
  "language_info": {
   "codemirror_mode": {
    "name": "ipython",
    "version": 3
   },
   "file_extension": ".py",
   "mimetype": "text/x-python",
   "name": "python",
   "nbconvert_exporter": "python",
   "pygments_lexer": "ipython3",
   "version": "3.7.3"
  }
 },
 "nbformat": 4,
 "nbformat_minor": 2
}
